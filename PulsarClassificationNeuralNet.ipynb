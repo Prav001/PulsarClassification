{
 "cells": [
  {
   "cell_type": "markdown",
   "metadata": {
    "_uuid": "b6b2254965f03e535cb73f1abf3bba4ec5c3cfe4"
   },
   "source": [
    "# 1. Importing libraries"
   ]
  },
  {
   "cell_type": "code",
   "execution_count": 82,
   "metadata": {
    "_cell_guid": "b1076dfc-b9ad-4769-8c92-a6c4dae69d19",
    "_uuid": "8f2839f25d086af736a60e9eeb907d3b93b6e0e5"
   },
   "outputs": [],
   "source": [
    "import pandas as pd\n",
    "import numpy as np\n",
    "import matplotlib.pyplot as plt\n",
    "\n",
    "import tensorflow as tf\n",
    "from tensorflow import keras\n",
    "\n",
    "import math\n",
    "import time\n",
    "from pathlib import Path\n",
    "\n",
    "from openml import tasks, datasets\n",
    "\n",
    "from sklearn.ensemble import RandomForestClassifier,BaggingClassifier\n",
    "from sklearn.metrics import accuracy_score, confusion_matrix, precision_score,recall_score,ConfusionMatrixDisplay\n",
    "from sklearn.model_selection import cross_val_score,RepeatedStratifiedKFold,RandomizedSearchCV,train_test_split\n",
    "from sklearn import svm\n",
    "from sklearn.preprocessing import normalize, StandardScaler, MinMaxScaler\n",
    "from sklearn.impute import SimpleImputer\n",
    "from sklearn.preprocessing import OneHotEncoder,LabelEncoder\n",
    "from sklearn.utils.class_weight import compute_class_weight\n",
    "\n",
    "from tensorflow.keras import backend as K\n",
    "from tensorflow.keras.models import Sequential\n",
    "from tensorflow.keras.layers import Dense, Dropout\n",
    "from tensorflow.keras.optimizers import Adam\n",
    "\n",
    "    \n",
    "from imblearn.over_sampling import SMOTE\n",
    "from imblearn.under_sampling import RandomUnderSampler\n",
    "from imblearn.pipeline import Pipeline\n",
    "\n",
    "from xgboost import XGBClassifier"
   ]
  },
  {
   "cell_type": "markdown",
   "metadata": {
    "_uuid": "c17634d1b3ecb3fd7b361d19c8774df26dac4ea2"
   },
   "source": [
    "# 2. Load Datasets"
   ]
  },
  {
   "cell_type": "code",
   "execution_count": 83,
   "metadata": {},
   "outputs": [
    {
     "name": "stdout",
     "output_type": "stream",
     "text": [
      "Training Set Shape:  (2829, 8)\n",
      "Validation Set Shape:  (1213, 8)\n",
      "Testing Set Shape:  (1011, 8)\n"
     ]
    },
    {
     "data": {
      "text/html": [
       "<div>\n",
       "<style scoped>\n",
       "    .dataframe tbody tr th:only-of-type {\n",
       "        vertical-align: middle;\n",
       "    }\n",
       "\n",
       "    .dataframe tbody tr th {\n",
       "        vertical-align: top;\n",
       "    }\n",
       "\n",
       "    .dataframe thead th {\n",
       "        text-align: right;\n",
       "    }\n",
       "</style>\n",
       "<table border=\"1\" class=\"dataframe\">\n",
       "  <thead>\n",
       "    <tr style=\"text-align: right;\">\n",
       "      <th></th>\n",
       "      <th>feature1</th>\n",
       "      <th>feature2</th>\n",
       "      <th>feature3</th>\n",
       "      <th>feature4</th>\n",
       "      <th>feature5</th>\n",
       "      <th>feature6</th>\n",
       "      <th>feature7</th>\n",
       "      <th>feature8</th>\n",
       "    </tr>\n",
       "  </thead>\n",
       "  <tbody>\n",
       "    <tr>\n",
       "      <th>0</th>\n",
       "      <td>7</td>\n",
       "      <td>7</td>\n",
       "      <td>2</td>\n",
       "      <td>1</td>\n",
       "      <td>1</td>\n",
       "      <td>1</td>\n",
       "      <td>5</td>\n",
       "      <td>3</td>\n",
       "    </tr>\n",
       "    <tr>\n",
       "      <th>1</th>\n",
       "      <td>7</td>\n",
       "      <td>7</td>\n",
       "      <td>2</td>\n",
       "      <td>1</td>\n",
       "      <td>1</td>\n",
       "      <td>1</td>\n",
       "      <td>4</td>\n",
       "      <td>3</td>\n",
       "    </tr>\n",
       "    <tr>\n",
       "      <th>2</th>\n",
       "      <td>8</td>\n",
       "      <td>6</td>\n",
       "      <td>1</td>\n",
       "      <td>1</td>\n",
       "      <td>1</td>\n",
       "      <td>1</td>\n",
       "      <td>4</td>\n",
       "      <td>4</td>\n",
       "    </tr>\n",
       "    <tr>\n",
       "      <th>3</th>\n",
       "      <td>7</td>\n",
       "      <td>7</td>\n",
       "      <td>2</td>\n",
       "      <td>1</td>\n",
       "      <td>1</td>\n",
       "      <td>1</td>\n",
       "      <td>4</td>\n",
       "      <td>4</td>\n",
       "    </tr>\n",
       "    <tr>\n",
       "      <th>4</th>\n",
       "      <td>7</td>\n",
       "      <td>5</td>\n",
       "      <td>2</td>\n",
       "      <td>1</td>\n",
       "      <td>1</td>\n",
       "      <td>1</td>\n",
       "      <td>5</td>\n",
       "      <td>2</td>\n",
       "    </tr>\n",
       "  </tbody>\n",
       "</table>\n",
       "</div>"
      ],
      "text/plain": [
       "   feature1  feature2  feature3  feature4  feature5  feature6  feature7  \\\n",
       "0         7         7         2         1         1         1         5   \n",
       "1         7         7         2         1         1         1         4   \n",
       "2         8         6         1         1         1         1         4   \n",
       "3         7         7         2         1         1         1         4   \n",
       "4         7         5         2         1         1         1         5   \n",
       "\n",
       "   feature8  \n",
       "0         3  \n",
       "1         3  \n",
       "2         4  \n",
       "3         4  \n",
       "4         2  "
      ]
     },
     "execution_count": 83,
     "metadata": {},
     "output_type": "execute_result"
    }
   ],
   "source": [
    "# Load the dataset from CSV file\n",
    "\n",
    "#dataset_filename = \"LOTAAS_1_Lyon_Features (8).csv\"\n",
    "dataset_filename = \"LOTAAS_1_Lyon_Features (8)_10_Bin_Discretized.csv\"\n",
    "\n",
    "data = pd.read_csv(dataset_filename, header=None, names=['feature1', 'feature2', 'feature3', 'feature4', 'feature5', 'feature6', 'feature7', 'feature8', 'class'])\n",
    "\n",
    "# Split the  data into features (X) and target (y)\n",
    "X = data.iloc[:, :-1].values  # Select all rows and columns except the last column\n",
    "y = data.iloc[:, -1].values   # Select all rows and the last column\n",
    "\n",
    "# Split the data into train and temporary test sets\n",
    "X_train_val, X_test, y_train_val, y_test = train_test_split(X, y, test_size=0.2, random_state=42)\n",
    "\n",
    "# Split the train and validation sets from the temporary train set\n",
    "X_train, X_valid, y_train, y_valid = train_test_split(X_train_val, y_train_val, test_size=0.3, random_state=42)\n",
    "\n",
    "input_columns = data.columns[:-1]\n",
    "output_columns = data.columns[-1]\n",
    "\n",
    "X_train= pd.DataFrame(X_train)\n",
    "X_valid= pd.DataFrame(X_valid)\n",
    "X_test = pd.DataFrame(X_test)\n",
    "\n",
    "print(\"Training Set Shape: \",X_train.shape)\n",
    "print(\"Validation Set Shape: \",X_valid.shape)\n",
    "print(\"Testing Set Shape: \",X_test.shape)\n",
    "\n",
    "X_train.columns = input_columns\n",
    "X_valid.columns = input_columns\n",
    "X_test.columns = input_columns\n",
    "\n",
    "X_train.head()"
   ]
  },
  {
   "cell_type": "code",
   "execution_count": 84,
   "metadata": {},
   "outputs": [
    {
     "data": {
      "image/png": "[encoded data removed]",
      "text/plain": [
       "<Figure size 576x432 with 1 Axes>"
      ]
     },
     "metadata": {
      "needs_background": "light"
     },
     "output_type": "display_data"
    }
   ],
   "source": [
    " # Plot the distributions\n",
    "plt.figure(figsize=(8, 6))\n",
    "plt.hist(y_train, bins=20, alpha=0.5, label='Training Data')\n",
    "plt.hist(y_test, bins=20, alpha=0.5, label='Testing Data')\n",
    "plt.title('Distribution of Pulsars(1) and Non Pulsars(0)')\n",
    "plt.xlabel('Output Value')\n",
    "plt.ylabel('Density')\n",
    "plt.legend()\n",
    "plt.show()"
   ]
  },
  {
   "cell_type": "markdown",
   "metadata": {},
   "source": [
    "# 3. Preprocess Data"
   ]
  },
  {
   "cell_type": "code",
   "execution_count": 85,
   "metadata": {},
   "outputs": [],
   "source": [
    "def preprocess_data(X_train,X_valid,original_columns):\n",
    "    \n",
    "    # Normalize the features\n",
    "    scaler = StandardScaler()\n",
    "    X_train = scaler.fit_transform(X_train)\n",
    "    X_valid = scaler.transform(X_valid)\n",
    "    \n",
    "    # Preprocessing for numerical data\n",
    "    imputer= SimpleImputer(strategy='median')\n",
    "    imputer.fit(X_train)\n",
    "\n",
    "    X_train_imputed= pd.DataFrame(imputer.transform(X_train))\n",
    "    X_valid_imputed = pd.DataFrame(imputer.transform(X_valid))\n",
    "\n",
    "    # Assign original column names back to the DataFrames\n",
    "    X_train_imputed.columns = original_columns\n",
    "    X_valid_imputed.columns = original_columns\n",
    "\n",
    "    print(\"X_train shape after imputation: \", X_train_imputed.shape)\n",
    "    print(\"X_valid.shape after imputation: \", X_valid_imputed.shape)\n",
    "\n",
    "    return X_train_imputed,X_valid_imputed"
   ]
  },
  {
   "cell_type": "code",
   "execution_count": 86,
   "metadata": {},
   "outputs": [
    {
     "name": "stdout",
     "output_type": "stream",
     "text": [
      "X_train shape after imputation:  (2829, 8)\n",
      "X_valid.shape after imputation:  (1213, 8)\n"
     ]
    }
   ],
   "source": [
    "X_train, X_valid= preprocess_data(X_train,X_valid,input_columns)"
   ]
  },
  {
   "cell_type": "markdown",
   "metadata": {},
   "source": [
    "# 4. Balancing Dataset"
   ]
  },
  {
   "cell_type": "code",
   "execution_count": 87,
   "metadata": {},
   "outputs": [],
   "source": [
    "def balance_dataset(X_train,y_train):\n",
    "    \n",
    "    '''\n",
    "    https://machinelearningmastery.com/smote-oversampling-for-imbalanced-classification/\n",
    "    '''\n",
    "\n",
    "    \n",
    "    # Define resampling strategies\n",
    "    over_sampling = SMOTE()\n",
    "    under_sampling = RandomUnderSampler()\n",
    "\n",
    "    # Define pipeline with resampling\n",
    "    pipeline = Pipeline([\n",
    "        ('over_sampling', over_sampling),\n",
    "        ('under_sampling', under_sampling)\n",
    "    ])\n",
    "\n",
    "    # Apply resampling to training data\n",
    "    c= pipeline.fit_resample(X_train, y_train)\n",
    "    X_resampled, y_resampled = over_sampling.fit_resample(X_train, y_train)\n",
    "    return X_resampled, y_resampled\n"
   ]
  },
  {
   "cell_type": "code",
   "execution_count": 88,
   "metadata": {},
   "outputs": [],
   "source": [
    "X_train, y_train = balance_dataset(X_train,y_train)"
   ]
  },
  {
   "cell_type": "markdown",
   "metadata": {
    "_uuid": "b4783cdb1902414c346e39c709b5619788e4b748"
   },
   "source": [
    "# 5. Neural Net- 1 Output Node"
   ]
  },
  {
   "cell_type": "code",
   "execution_count": 89,
   "metadata": {},
   "outputs": [],
   "source": [
    "def ann_one_output_node(X_train,y_train,X_valid,y_valid):\n",
    "    \n",
    "    # Compute class weights\n",
    "    class_labels = np.unique(y_train)\n",
    "    class_weights = compute_class_weight(class_weight='balanced', classes= class_labels, y= y_train)\n",
    "\n",
    "    # Create a dictionary mapping class indices to their respective weights\n",
    "    class_weight_dict = dict(zip(class_labels, class_weights))\n",
    "    \n",
    "    # Build the neural network model\n",
    "    model_ann = Sequential([\n",
    "        Dense(12, activation='relu', input_shape=(X_train.shape[1],)),  # Input layer with 12 nodes\n",
    "        Dense(12, activation='relu'),  # Hidden layer with 8 nodes\n",
    "        Dense(1, activation='sigmoid')  # Output layer with 1 nodes (binary classification)\n",
    "    ])\n",
    "    # Compile the model\n",
    "    model_ann.compile(optimizer='adam',\n",
    "                  loss='binary_crossentropy',\n",
    "                  metrics=['accuracy',\n",
    "                         tf.keras.metrics.Precision(),  # Precision\n",
    "                         tf.keras.metrics.Recall(),     # Recall\n",
    "                         tf.keras.metrics.AUC(),     \n",
    "                          'mse'])\n",
    "\n",
    "    history = model_ann.fit(X_train,\n",
    "                            y_train, \n",
    "                            epochs=100,\n",
    "                            batch_size= 32,\n",
    "                            validation_data=(X_valid, y_valid),\n",
    "                            verbose=0,\n",
    "                            class_weight=class_weight_dict)\n",
    "\n",
    "    #my_instance.plot_error_development()\n",
    "    return model_ann,history"
   ]
  },
  {
   "cell_type": "code",
   "execution_count": 90,
   "metadata": {},
   "outputs": [],
   "source": [
    "def model_metrics(X_test, y_test, model):\n",
    "    # Evaluate the model on test data\n",
    "    loss, accuracy, precision, recall, auc, mse = model.evaluate(X_test, y_test,verbose=0)\n",
    "    print(f'Test Accuracy: {accuracy * 100:.2f}%')\n",
    "    print(f'Test Precision: {precision * 100:.2f}%')\n",
    "    \n",
    "def plot_predictions_dist_pulsars_nonpulsars(X_test, y_test, model):\n",
    "    # Obtain predictions for test data\n",
    "    \n",
    "    y_pred = (model.predict(X_test,verbose=0) > 0.5).astype(int)\n",
    "\n",
    "    # Plot the distributions\n",
    "    plt.figure(figsize=(8, 6))\n",
    "    plt.hist(y_pred, bins=20, alpha=0.5)\n",
    "    #plt.hist(nonpulsar_preds, bins=20, alpha=0.5, label='Non-pulsars', density=True)\n",
    "\n",
    "    plt.title('Distribution of Neural Network Output')\n",
    "    plt.xlabel('Output Value')\n",
    "    plt.ylabel('Count')\n",
    "    #plt.legend()\n",
    "    plt.show()\n",
    "\n",
    "def plot_mse_epoch(history):\n",
    "    plt.figure(figsize=(8, 6))\n",
    "    plt.plot(history.history['mse'], label='Training Data')\n",
    "    plt.plot(history.history['val_mse'], label='Validation Data')\n",
    "    plt.xlabel('Epochs')\n",
    "    plt.ylabel('Mean Squared Error')\n",
    "    plt.title('Mean Squared Error vs. Epoch')\n",
    "    plt.legend()\n",
    "    plt.show()\n",
    "    \n",
    "def plot_training_loss_validation_accuracy(history):\n",
    "    plt.figure(figsize=(8, 6))\n",
    "    plt.plot(history.history['loss'], label='Training Loss')\n",
    "    plt.plot(history.history['val_accuracy'], label='Validation Accuracy')\n",
    "    plt.xlabel('Epochs')\n",
    "    plt.ylabel('Loss/Accuracy')\n",
    "    plt.title('Loss/Accuracy vs. Epoch')\n",
    "    plt.legend()\n",
    "    plt.show()    "
   ]
  },
  {
   "cell_type": "code",
   "execution_count": 91,
   "metadata": {
    "_uuid": "1b8f75a0a1976000bc34e71a65c512d124825097",
    "scrolled": false
   },
   "outputs": [
    {
     "name": "stdout",
     "output_type": "stream",
     "text": [
      "Test Accuracy: 99.60%\n",
      "Test Precision: 100.00%\n"
     ]
    },
    {
     "data": {
      "image/png": "[encoded data removed]",
      "text/plain": [
       "<Figure size 576x432 with 1 Axes>"
      ]
     },
     "metadata": {
      "needs_background": "light"
     },
     "output_type": "display_data"
    },
    {
     "data": {
      "image/png": "[encoded data removed]",
      "text/plain": [
       "<Figure size 576x432 with 1 Axes>"
      ]
     },
     "metadata": {
      "needs_background": "light"
     },
     "output_type": "display_data"
    },
    {
     "data": {
      "image/png": "[encoded data removed]",
      "text/plain": [
       "<Figure size 576x432 with 1 Axes>"
      ]
     },
     "metadata": {
      "needs_background": "light"
     },
     "output_type": "display_data"
    }
   ],
   "source": [
    "model_ann,history= ann_one_output_node(X_train,y_train,X_valid,y_valid)\n",
    "model_metrics(X_test, y_test, model_ann)\n",
    "plot_mse_epoch(history)\n",
    "plot_training_loss_validation_accuracy(history)\n",
    "plot_predictions_dist_pulsars_nonpulsars(X_test, y_test, model_ann)"
   ]
  },
  {
   "cell_type": "code",
   "execution_count": null,
   "metadata": {},
   "outputs": [],
   "source": []
  }
 ],
 "metadata": {
  "kernelspec": {
   "display_name": "Python 3 (ipykernel)",
   "language": "python",
   "name": "python3"
  },
  "language_info": {
   "codemirror_mode": {
    "name": "ipython",
    "version": 3
   },
   "file_extension": ".py",
   "mimetype": "text/x-python",
   "name": "python",
   "nbconvert_exporter": "python",
   "pygments_lexer": "ipython3",
   "version": "3.8.5"
  }
 },
 "nbformat": 4,
 "nbformat_minor": 4
}
