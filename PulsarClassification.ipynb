{
 "cells": [
  {
   "cell_type": "markdown",
   "metadata": {
    "_uuid": "b6b2254965f03e535cb73f1abf3bba4ec5c3cfe4"
   },
   "source": [
    "# Importing libraries"
   ]
  },
  {
   "cell_type": "code",
   "execution_count": 133,
   "metadata": {
    "_cell_guid": "b1076dfc-b9ad-4769-8c92-a6c4dae69d19",
    "_uuid": "8f2839f25d086af736a60e9eeb907d3b93b6e0e5"
   },
   "outputs": [],
   "source": [
    "import pandas as pd\n",
    "import numpy as np\n",
    "import matplotlib.pyplot as plt\n",
    "\n",
    "import math\n",
    "import time\n",
    "from pathlib import Path\n",
    "\n",
    "from openml import tasks, datasets\n",
    "\n",
    "from sklearn.model_selection import train_test_split\n",
    "from sklearn.ensemble import RandomForestClassifier\n",
    "\n",
    "from sklearn.ensemble import RandomForestClassifier,BaggingClassifier\n",
    "from sklearn.metrics import accuracy_score, confusion_matrix, precision_score,recall_score,ConfusionMatrixDisplay\n",
    "from sklearn.model_selection import cross_val_score,RepeatedStratifiedKFold,RandomizedSearchCV,train_test_split\n",
    "from sklearn import svm\n",
    "from sklearn.preprocessing import normalize, StandardScaler, MinMaxScaler\n",
    "from sklearn.impute import SimpleImputer\n",
    "from sklearn.preprocessing import OneHotEncoder,LabelEncoder\n",
    "\n",
    "from xgboost import XGBClassifier"
   ]
  },
  {
   "cell_type": "markdown",
   "metadata": {
    "_uuid": "c17634d1b3ecb3fd7b361d19c8774df26dac4ea2"
   },
   "source": [
    "# Load datasets"
   ]
  },
  {
   "cell_type": "code",
   "execution_count": 126,
   "metadata": {
    "_uuid": "8aef4d6898bf06a2414a3a675a1fa9400f97cbd6"
   },
   "outputs": [
    {
     "data": {
      "text/html": [
       "<div>\n",
       "<style scoped>\n",
       "    .dataframe tbody tr th:only-of-type {\n",
       "        vertical-align: middle;\n",
       "    }\n",
       "\n",
       "    .dataframe tbody tr th {\n",
       "        vertical-align: top;\n",
       "    }\n",
       "\n",
       "    .dataframe thead th {\n",
       "        text-align: right;\n",
       "    }\n",
       "</style>\n",
       "<table border=\"1\" class=\"dataframe\">\n",
       "  <thead>\n",
       "    <tr style=\"text-align: right;\">\n",
       "      <th></th>\n",
       "      <th>Profile_mean</th>\n",
       "      <th>Profile_stdev</th>\n",
       "      <th>Profile_skewness</th>\n",
       "      <th>Profile_kurtosis</th>\n",
       "      <th>DM_mean</th>\n",
       "      <th>DM_stdev</th>\n",
       "      <th>DM_skewness</th>\n",
       "      <th>DM_kurtosis</th>\n",
       "    </tr>\n",
       "  </thead>\n",
       "  <tbody>\n",
       "    <tr>\n",
       "      <th>14453</th>\n",
       "      <td>108.765625</td>\n",
       "      <td>47.520470</td>\n",
       "      <td>0.191285</td>\n",
       "      <td>0.007945</td>\n",
       "      <td>2.921405</td>\n",
       "      <td>18.009581</td>\n",
       "      <td>8.468258</td>\n",
       "      <td>84.137111</td>\n",
       "    </tr>\n",
       "    <tr>\n",
       "      <th>15797</th>\n",
       "      <td>121.554688</td>\n",
       "      <td>50.909357</td>\n",
       "      <td>0.083099</td>\n",
       "      <td>-0.087226</td>\n",
       "      <td>1.098662</td>\n",
       "      <td>11.590431</td>\n",
       "      <td>14.180137</td>\n",
       "      <td>242.867752</td>\n",
       "    </tr>\n",
       "    <tr>\n",
       "      <th>4510</th>\n",
       "      <td>100.265625</td>\n",
       "      <td>43.808975</td>\n",
       "      <td>0.233088</td>\n",
       "      <td>0.451613</td>\n",
       "      <td>1.142977</td>\n",
       "      <td>13.774721</td>\n",
       "      <td>14.148388</td>\n",
       "      <td>215.404864</td>\n",
       "    </tr>\n",
       "    <tr>\n",
       "      <th>11899</th>\n",
       "      <td>118.460938</td>\n",
       "      <td>41.178518</td>\n",
       "      <td>0.162482</td>\n",
       "      <td>1.050363</td>\n",
       "      <td>1.161371</td>\n",
       "      <td>13.353561</td>\n",
       "      <td>14.472023</td>\n",
       "      <td>233.870475</td>\n",
       "    </tr>\n",
       "    <tr>\n",
       "      <th>895</th>\n",
       "      <td>97.109375</td>\n",
       "      <td>35.920319</td>\n",
       "      <td>0.364792</td>\n",
       "      <td>2.250635</td>\n",
       "      <td>2.826923</td>\n",
       "      <td>17.559245</td>\n",
       "      <td>8.733436</td>\n",
       "      <td>90.352868</td>\n",
       "    </tr>\n",
       "  </tbody>\n",
       "</table>\n",
       "</div>"
      ],
      "text/plain": [
       "       Profile_mean  Profile_stdev  Profile_skewness  Profile_kurtosis  \\\n",
       "14453    108.765625      47.520470          0.191285          0.007945   \n",
       "15797    121.554688      50.909357          0.083099         -0.087226   \n",
       "4510     100.265625      43.808975          0.233088          0.451613   \n",
       "11899    118.460938      41.178518          0.162482          1.050363   \n",
       "895       97.109375      35.920319          0.364792          2.250635   \n",
       "\n",
       "        DM_mean   DM_stdev  DM_skewness  DM_kurtosis  \n",
       "14453  2.921405  18.009581     8.468258    84.137111  \n",
       "15797  1.098662  11.590431    14.180137   242.867752  \n",
       "4510   1.142977  13.774721    14.148388   215.404864  \n",
       "11899  1.161371  13.353561    14.472023   233.870475  \n",
       "895    2.826923  17.559245     8.733436    90.352868  "
      ]
     },
     "execution_count": 126,
     "metadata": {},
     "output_type": "execute_result"
    }
   ],
   "source": [
    "'''\n",
    "Original Dataset: \n",
    "https://www.openml.org/search?type=data&status=active&id=45558&sort=runs\n",
    "''' \n",
    "\n",
    "# Load the dataset from OpenML\n",
    "htru2_dataset = datasets.get_dataset(45558,download_data=False,download_qualities=False,download_features_meta_data=False)\n",
    "X, y, _, _ = htru2_dataset.get_data(dataset_format='dataframe', target=htru2_dataset.default_target_attribute)\n",
    "\n",
    "# Split the data into training and testing sets\n",
    "X_train, X_test, y_train, y_test = train_test_split(X, y, test_size=0.2, random_state=42)\n",
    "\n",
    "# Store original column names\n",
    "original_columns = X_train.columns\n",
    "\n",
    "X_train.head()"
   ]
  },
  {
   "cell_type": "markdown",
   "metadata": {},
   "source": [
    "# Preprocess Data"
   ]
  },
  {
   "cell_type": "code",
   "execution_count": 127,
   "metadata": {},
   "outputs": [],
   "source": [
    "def preprocess_data(X_train,X_test,original_columns):\n",
    "    \n",
    "    # Preprocessing for numerical data\n",
    "    imputer= SimpleImputer(strategy='median')\n",
    "    imputer.fit(X_train)\n",
    "\n",
    "    X_train_imputed= pd.DataFrame(imputer.transform(X_train))\n",
    "    X_test_imputed = pd.DataFrame(imputer.transform(X_test))\n",
    "\n",
    "    # Assign original column names back to the DataFrames\n",
    "    X_train_imputed.columns = original_columns\n",
    "    X_test_imputed.columns = original_columns\n",
    "\n",
    "    print(\"X_train shape after imputation: \", X_train_imputed.shape)\n",
    "    print(\"X_test.shape after imputation: \", X_test_imputed.shape)\n",
    "\n",
    "    return X_train_imputed,X_test_imputed"
   ]
  },
  {
   "cell_type": "code",
   "execution_count": 128,
   "metadata": {},
   "outputs": [
    {
     "name": "stdout",
     "output_type": "stream",
     "text": [
      "X_train shape after imputation:  (14318, 8)\n",
      "X_test.shape after imputation:  (3580, 8)\n"
     ]
    }
   ],
   "source": [
    "X_train,X_test= preprocess_data(X_train,X_test,original_columns)"
   ]
  },
  {
   "cell_type": "markdown",
   "metadata": {
    "_uuid": "b4783cdb1902414c346e39c709b5619788e4b748"
   },
   "source": [
    "# 1. RandomForestClassifier"
   ]
  },
  {
   "cell_type": "code",
   "execution_count": 134,
   "metadata": {},
   "outputs": [],
   "source": [
    "def rfc(X_train,y_train):\n",
    "    # Define model\n",
    "    model_rfc = RandomForestClassifier(n_estimators=30, random_state=0)\n",
    "\n",
    "\n",
    "    model_rfc.fit(X_train, y_train)\n",
    "    y_pred_rfc = model_rfc.predict(X_test)\n",
    "\n",
    "    # define evaluation procedure\n",
    "    cv = RepeatedStratifiedKFold(n_splits=4, n_repeats=5, random_state=1)\n",
    "    # evaluate model\n",
    "    scores = cross_val_score(model_rfc, X_test, y_test, scoring='accuracy', cv=cv, n_jobs=-1)\n",
    "    # summarize performance\n",
    "    print('Mean Accuracy: %.3f' % np.mean(scores))\n",
    "    \n",
    "    accuracy = accuracy_score(y_test, y_pred_rfc)\n",
    "    precision = precision_score(y_test, y_pred_rfc,average='binary',pos_label='1')\n",
    "    recall = recall_score(y_test, y_pred_rfc,pos_label='1')\n",
    "\n",
    "    print(f\"Accuracy using RandomForestClassifier: %.3f\"%accuracy)\n",
    "    print(f\"Precision using RandomForestClassifier: %.3f\"%precision)\n",
    "    print(\"Recall using RandomForestClassifier: %.3f\" %recall)"
   ]
  },
  {
   "cell_type": "code",
   "execution_count": 135,
   "metadata": {
    "_uuid": "1b8f75a0a1976000bc34e71a65c512d124825097"
   },
   "outputs": [
    {
     "name": "stdout",
     "output_type": "stream",
     "text": [
      "Mean Accuracy: 0.980\n",
      "Accuracy using RandomForestClassifier: 0.981\n",
      "Precision using RandomForestClassifier: 0.935\n",
      "Recall using RandomForestClassifier: 0.847\n"
     ]
    }
   ],
   "source": [
    "rfc(X_train,y_train)"
   ]
  },
  {
   "cell_type": "markdown",
   "metadata": {},
   "source": [
    "## 1.1 Random Forest With Bootstrap Class Weighting\n",
    "\n"
   ]
  },
  {
   "cell_type": "code",
   "execution_count": 136,
   "metadata": {},
   "outputs": [],
   "source": [
    "def rfc_with_bootstrap(X_train,y_train):\n",
    "    model_rfc_bcw = RandomForestClassifier(n_estimators=30,random_state=0,class_weight='balanced_subsample')\n",
    "    model_rfc_bcw.fit(X_train, y_train)\n",
    "    y_pred_rfc_bcw = model_rfc_bcw.predict(X_test)\n",
    "    \n",
    "    accuracy_rfc_bcw = accuracy_score(y_test, y_pred_rfc_bcw)\n",
    "    precision_rfc_bcw = precision_score(y_test, y_pred_rfc_bcw,pos_label='1')\n",
    "    recall_rfc_bcw = recall_score(y_test, y_pred_rfc_bcw,pos_label='1')\n",
    "\n",
    "    print(f\"Accuracy using Bootstrap Class Weighting: %.3f\"%accuracy_rfc_bcw)\n",
    "    print(f\"Precision using Bootstrap Class Weighting: %.3f\"%precision_rfc_bcw)\n",
    "    print(\"Recall using Bootstrap Class Weighting: %.3f\" %recall_rfc_bcw)"
   ]
  },
  {
   "cell_type": "code",
   "execution_count": 137,
   "metadata": {},
   "outputs": [
    {
     "name": "stdout",
     "output_type": "stream",
     "text": [
      "Accuracy using Bootstrap Class Weighting: 0.981\n",
      "Precision using Bootstrap Class Weighting: 0.938\n",
      "Recall using Bootstrap Class Weighting: 0.847\n"
     ]
    }
   ],
   "source": [
    "rfc_with_bootstrap(X_train,y_train)"
   ]
  },
  {
   "cell_type": "markdown",
   "metadata": {},
   "source": [
    "## 2. Using XGBoost\n"
   ]
  },
  {
   "cell_type": "code",
   "execution_count": 157,
   "metadata": {},
   "outputs": [],
   "source": [
    "def xgb_classifier(X_train,y_train):\n",
    "\n",
    "    # XGBoost on the Training set\n",
    "\n",
    "    '''\n",
    "    https://stackoverflow.com/questions/71996617/invalid-classes-inferred-from-unique-values-of-y-expected-0-1-2-3-4-5-got\n",
    "    '''\n",
    "    le = LabelEncoder()\n",
    "    y_train_xgb = le.fit_transform(y_train)\n",
    "\n",
    "    xgb_classifier = XGBClassifier()\n",
    "    xgb_classifier.fit(X_train, y_train_xgb)\n",
    "\n",
    "    y_pred_xgb = xgb_classifier.predict(X_test)\n",
    "    y_pred_xgb = le.inverse_transform(y_pred_xgb)\n",
    "    \n",
    "    accuracy_score_xgb= accuracy_score(y_test, y_pred_xgb)    \n",
    "    print(f\"Accuracy Score using XGB: %.3f\"%accuracy_score_xgb)\n",
    "\n",
    "    cm = confusion_matrix(y_test, y_pred_xgb)\n",
    "    \n",
    "    classes= y_test.unique()\n",
    "    disp = ConfusionMatrixDisplay(confusion_matrix=cm, display_labels=classes)\n",
    "    disp.plot()\n",
    "    plt.show()"
   ]
  },
  {
   "cell_type": "code",
   "execution_count": 158,
   "metadata": {},
   "outputs": [
    {
     "name": "stdout",
     "output_type": "stream",
     "text": [
      "Accuracy Score using XGB: 0.982\n"
     ]
    },
    {
     "data": {
      "image/png": "[encoded data removed]",
      "text/plain": [
       "<Figure size 432x288 with 2 Axes>"
      ]
     },
     "metadata": {
      "needs_background": "light"
     },
     "output_type": "display_data"
    }
   ],
   "source": [
    "xgb_classifier(X_train,y_train)"
   ]
  },
  {
   "cell_type": "markdown",
   "metadata": {},
   "source": [
    "## 3. Using Bagging Classifier\n",
    "\n",
    "We are dealing with imbalanced classification problem so can't use usual ML models without accounting for dataset class imbalance. Here I use bagging classifier as first approach to deal with thhat problem.\n",
    "\n",
    "https://machinelearningmastery.com/what-is-imbalanced-classification/\n",
    "\n",
    "1. Bagging classifier is an ensemble classifier which is created using multiple estimators which can be trained using different sampling techniques including bagging or bootstrap aggregation (samples drawn with replacement). \n",
    "\n",
    "2. Bagging classifier helps reduce the variance of individual estimators by sampling technique and combining the predictions.\n"
   ]
  },
  {
   "cell_type": "code",
   "execution_count": 149,
   "metadata": {},
   "outputs": [],
   "source": [
    "def bagging_classifier(X_train, y_train):\n",
    "    \n",
    "    # deafault base estimator is a DecisionTreeClassifier.\n",
    "\n",
    "    bagging = BaggingClassifier(n_estimators=10, random_state=0)\n",
    "    bagging.fit(X_train, y_train)\n",
    "\n",
    "    y_pred_bagging = bagging.predict(X_test)\n",
    "\n",
    "    accuracy_bag = accuracy_score(y_test, y_pred_bagging)\n",
    "    precision_bag = precision_score(y_test, y_pred_bagging,pos_label='1')\n",
    "    recall_bag = recall_score(y_test, y_pred_bagging,pos_label='1')\n",
    "    \n",
    "    print(f\"Accuracy Score using Bagging Classifier: %.3f\"%accuracy_bag)\n",
    "    print(f\"Precision Score using Bagging Classifier: %.3f\"%precision_bag)\n",
    "    print(f\"Recall Score using Bagging Classifier: %.3f\"%recall_bag)\n",
    "\n",
    "    # Model scores on test and training data\n",
    "    print('Model training Score: %.3f' %bagging.score(X_train, y_train))\n",
    "    print('Model test Score: %.3f ' %bagging.score(X_test, y_test))"
   ]
  },
  {
   "cell_type": "code",
   "execution_count": 150,
   "metadata": {},
   "outputs": [
    {
     "name": "stdout",
     "output_type": "stream",
     "text": [
      "Accuracy Score using Bagging Classifier: 0.981\n",
      "Precision Score using Bagging Classifier: 0.935\n",
      "Recall Score using Bagging Classifier: 0.847\n",
      "Model training Score: 0.997\n",
      "Model test Score: 0.981 \n"
     ]
    }
   ],
   "source": [
    "bagging_classifier(X_train, y_train)"
   ]
  },
  {
   "cell_type": "markdown",
   "metadata": {},
   "source": [
    "# 3.1 Bagging with Random Forest Classifier as Base Estimator\n"
   ]
  },
  {
   "cell_type": "code",
   "execution_count": 152,
   "metadata": {},
   "outputs": [],
   "source": [
    "def bagging_classifier_rgb(X_train, y_train):\n",
    "    rfc_bagging = BaggingClassifier(base_estimator=RandomForestClassifier(),n_estimators=10, random_state=0)\n",
    "    rfc_bagging.fit(X_train, y_train)\n",
    "\n",
    "    y_pred_rfc_bagging = rfc_bagging.predict(X_test)\n",
    "\n",
    "    accuracy_bag_rfc = accuracy_score(y_test, y_pred_rfc)\n",
    "    precision_bag_rfc = precision_score(y_test, y_pred_rfc,pos_label='1')\n",
    "    recall_bag_rfc= recall_score(y_test, y_pred_rfc,pos_label='1')\n",
    "\n",
    "    print(f\"Accuracy Score using Bagging Classifier with RFC: %.3f\"%accuracy_bag_rfc)\n",
    "    print(f\"Precision Score using Bagging Classifier with RFC: %.3f\"%precision_bag_rfc)\n",
    "    print(f\"Recall Score using Bagging Classifier with RFC: %.3f\"%recall_bag_rfc)\n",
    "\n",
    "    # Model scores on test and training data\n",
    "    print('Model training Score: %.3f' %rfc_bagging.score(X_train, y_train))\n",
    "    print('Model test Score: %.3f ' %rfc_bagging.score(X_test, y_test))\n"
   ]
  },
  {
   "cell_type": "code",
   "execution_count": 154,
   "metadata": {},
   "outputs": [
    {
     "name": "stdout",
     "output_type": "stream",
     "text": [
      "Accuracy Score using Bagging Classifier with RFC: 0.981\n",
      "Precision Score using Bagging Classifier with RFC: 0.935\n",
      "Recall Score using Bagging Classifier with RFC: 0.847\n",
      "Model training Score: 0.991\n",
      "Model test Score: 0.981 \n"
     ]
    }
   ],
   "source": [
    "bagging_classifier_rgb(X_train, y_train)"
   ]
  },
  {
   "cell_type": "markdown",
   "metadata": {},
   "source": [
    "# 3.2 Bagging with Support Vector Classifier as Base Estimator"
   ]
  },
  {
   "cell_type": "code",
   "execution_count": 155,
   "metadata": {},
   "outputs": [],
   "source": [
    "def bagging_classifier_svc(X_train, y_train):\n",
    "    \n",
    "    #First just fit data using classic SVC for test purpose \n",
    "    model_svc = svm.SVC()\n",
    "\n",
    "    model_svc.fit(X_train, y_train)\n",
    "\n",
    "    y_pred_svc = model_svc.predict(X_test)\n",
    "\n",
    "    accuracy_svc = accuracy_score(y_test, y_pred_svc)\n",
    "    precision_svc = precision_score(y_test, y_pred_svc,pos_label='1')\n",
    "    recall_svc = recall_score(y_test, y_pred_svc,pos_label='1')\n",
    "\n",
    "    print(f\"Accuracy Score using SVC: %.3f\"%accuracy_svc)\n",
    "    print(f\"Precision Score using SVC: %.3f\"%precision_svc)\n",
    "    print(f\"Recall Score using SVC: %.3f\"%precision_svc)\n",
    "    \n",
    "    # Now using bagging classfier\n",
    "    svc_bagging = BaggingClassifier(base_estimator=svm.SVC(),n_estimators=10, random_state=0)\n",
    "    svc_bagging.fit(X_train, y_train)\n",
    "\n",
    "    y_pred_svc_bagging = svc_bagging.predict(X_test)\n",
    "\n",
    "    accuracy_bag_svc = accuracy_score(y_test, y_pred_svc_bagging)\n",
    "    precision_bag_svc = precision_score(y_test, y_pred_svc_bagging,pos_label='1')\n",
    "    recall_bag_svc = recall_score(y_test, y_pred_svc_bagging,pos_label='1')\n",
    "\n",
    "    print(f\"Accuracy Score using Bagging Classifier with SVC: %.3f\"%accuracy)\n",
    "    print(f\"Precision Score using Bagging Classifier with SVC: %.3f\"%precision)\n",
    "    print(f\"Recall Score using Bagging Classifier with SVC: %.3f\"%precision)\n",
    "    \n",
    "    print('Model training Score: %.3f' %bagging.score(X_train, y_train))\n",
    "    print('Model test Score: %.3f ' %bagging.score(X_test, y_test))"
   ]
  },
  {
   "cell_type": "code",
   "execution_count": 156,
   "metadata": {},
   "outputs": [
    {
     "name": "stdout",
     "output_type": "stream",
     "text": [
      "Accuracy Score using SVC: 0.973\n",
      "Precision Score using SVC: 0.931\n",
      "Recall Score using SVC: 0.931\n",
      "Accuracy Score using Bagging Classifier with SVC: 0.981\n",
      "Precision Score using Bagging Classifier with SVC: 0.935\n",
      "Recall Score using Bagging Classifier with SVC: 0.935\n",
      "Model training Score: 0.997\n",
      "Model test Score: 0.981 \n"
     ]
    }
   ],
   "source": [
    "bagging_classifier_svc(X_train, y_train)"
   ]
  },
  {
   "cell_type": "code",
   "execution_count": null,
   "metadata": {},
   "outputs": [],
   "source": []
  }
 ],
 "metadata": {
  "kernelspec": {
   "display_name": "Python 3 (ipykernel)",
   "language": "python",
   "name": "python3"
  },
  "language_info": {
   "codemirror_mode": {
    "name": "ipython",
    "version": 3
   },
   "file_extension": ".py",
   "mimetype": "text/x-python",
   "name": "python",
   "nbconvert_exporter": "python",
   "pygments_lexer": "ipython3",
   "version": "3.8.5"
  }
 },
 "nbformat": 4,
 "nbformat_minor": 4
}
