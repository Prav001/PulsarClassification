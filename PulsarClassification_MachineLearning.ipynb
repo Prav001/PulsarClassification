{
 "cells": [
  {
   "cell_type": "markdown",
   "metadata": {
    "_uuid": "b6b2254965f03e535cb73f1abf3bba4ec5c3cfe4"
   },
   "source": [
    "# 1. Importing libraries"
   ]
  },
  {
   "cell_type": "code",
   "execution_count": 1,
   "metadata": {
    "_cell_guid": "b1076dfc-b9ad-4769-8c92-a6c4dae69d19",
    "_uuid": "8f2839f25d086af736a60e9eeb907d3b93b6e0e5"
   },
   "outputs": [],
   "source": [
    "import pandas as pd\n",
    "import numpy as np\n",
    "import matplotlib.pyplot as plt\n",
    "\n",
    "import math\n",
    "import time\n",
    "from pathlib import Path\n",
    "\n",
    "from openml import tasks, datasets\n",
    "\n",
    "from sklearn.model_selection import train_test_split\n",
    "from sklearn.ensemble import RandomForestClassifier\n",
    "\n",
    "from sklearn.ensemble import RandomForestClassifier,BaggingClassifier\n",
    "from sklearn.metrics import accuracy_score, confusion_matrix, precision_score,recall_score,ConfusionMatrixDisplay\n",
    "from sklearn.model_selection import cross_val_score,RepeatedStratifiedKFold,RandomizedSearchCV,train_test_split\n",
    "from sklearn import svm\n",
    "from sklearn.preprocessing import normalize, StandardScaler, MinMaxScaler\n",
    "from sklearn.impute import SimpleImputer\n",
    "from sklearn.preprocessing import OneHotEncoder,LabelEncoder\n",
    "\n",
    "from xgboost import XGBClassifier"
   ]
  },
  {
   "cell_type": "markdown",
   "metadata": {
    "_uuid": "c17634d1b3ecb3fd7b361d19c8774df26dac4ea2"
   },
   "source": [
    "# 2. Load datasets"
   ]
  },
  {
   "cell_type": "code",
   "execution_count": 2,
   "metadata": {
    "_uuid": "8aef4d6898bf06a2414a3a675a1fa9400f97cbd6"
   },
   "outputs": [],
   "source": [
    "def load_dataset(dataset_source):\n",
    "\n",
    "    if dataset_source ==\"HTRU\":\n",
    "\n",
    "        '''\n",
    "        Orginal data from High Time Resolution Universe (HTRU) \n",
    "        Dataset: https://www.openml.org/search?type=data&status=active&id=45558&sort=runs\n",
    "        ''' \n",
    "\n",
    "        # Load the dataset from OpenML\n",
    "        htru2_dataset = datasets.get_dataset(45558,download_data=False,download_qualities=False,download_features_meta_data=False)\n",
    "        X, y, _, _ = htru2_dataset.get_data(dataset_format='dataframe', target=htru2_dataset.default_target_attribute)\n",
    "\n",
    "        # Split the data into training and testing sets\n",
    "        X_train, X_test, y_train, y_test = train_test_split(X, y, test_size=0.2, random_state=42)\n",
    "\n",
    "        # Split the data into train and temporary test sets\n",
    "        X_train_val, X_test, y_train_val, y_test = train_test_split(X, y, test_size=0.2, random_state=42)\n",
    "\n",
    "        # Split the train and validation sets from the temporary train set\n",
    "        X_train, X_valid, y_train, y_valid = train_test_split(X_train_val, y_train_val, test_size=0.3, random_state=42)\n",
    "\n",
    "        # Store original column names\n",
    "        input_columns = X_train.columns\n",
    "\n",
    "        print(\"Training Set Shape: \",X_train.shape)\n",
    "        print(\"Validation Set Shape: \",X_valid.shape)\n",
    "        print(\"Testing Set Shape: \",X_test.shape)\n",
    "        \n",
    "        y_train= y_train.to_numpy()\n",
    "        y_test= y_test.to_numpy()\n",
    "        y_valid= y_valid.to_numpy()\n",
    "\n",
    "\n",
    "        X_train.head()\n",
    "\n",
    "    else:\n",
    "        # Load the dataset from CSV file\n",
    "        \n",
    "        '''\n",
    "        Data from LOFAR Tied-Array All-Sky Survey (LOTAAS)\n",
    "        \n",
    "        Paper: The LOFAR Tied-Array All-Sky Survey (LOTAAS): Survey overview and initial pulsar discoveries\n",
    "        Sanidas et. al. \n",
    "        \n",
    "        Catalogue: https://vizier.cds.unistra.fr/viz-bin/VizieR?-source=J/A+A/626/A104&-to=3#tablist\n",
    "        '''\n",
    "\n",
    "        dataset_filename = \"LOTAAS_1_Lyon_Features (8).csv\"\n",
    "        #dataset_filename = \"LOTAAS_1_Lyon_Features (8)_10_Bin_Discretized.csv\"\n",
    "\n",
    "        data = pd.read_csv(dataset_filename, header=None, names=['feature1', 'feature2', 'feature3', 'feature4', 'feature5', 'feature6', 'feature7', 'feature8', 'class'])\n",
    "\n",
    "        # Split the  data into features (X) and target (y)\n",
    "        X = data.iloc[:, :-1].values  # Select all rows and columns except the last column\n",
    "        y = data.iloc[:, -1].values   # Select all rows and the last column\n",
    "\n",
    "        # Split the data into train and temporary test sets\n",
    "        X_train_val, X_test, y_train_val, y_test = train_test_split(X, y, test_size=0.2, random_state=42)\n",
    "\n",
    "        # Split the train and validation sets from the temporary train set\n",
    "        X_train, X_valid, y_train, y_valid = train_test_split(X_train_val, y_train_val, test_size=0.3, random_state=42)\n",
    "\n",
    "        input_columns = data.columns[:-1]\n",
    "        output_columns = data.columns[-1]\n",
    "\n",
    "        X_train= pd.DataFrame(X_train)\n",
    "        X_valid= pd.DataFrame(X_valid)\n",
    "        X_test = pd.DataFrame(X_test)\n",
    "\n",
    "        print(\"Training Set Shape: \",X_train.shape)\n",
    "        print(\"Validation Set Shape: \",X_valid.shape)\n",
    "        print(\"Testing Set Shape: \",X_test.shape)\n",
    "\n",
    "        X_train.columns = input_columns\n",
    "        X_valid.columns = input_columns\n",
    "        X_test.columns = input_columns\n",
    "\n",
    "        X_train.head()\n",
    "        \n",
    "    return X_train, X_valid, X_test, y_train, y_valid, y_test, input_columns\n"
   ]
  },
  {
   "cell_type": "markdown",
   "metadata": {},
   "source": [
    "# 3. Preprocess Data"
   ]
  },
  {
   "cell_type": "code",
   "execution_count": 3,
   "metadata": {},
   "outputs": [],
   "source": [
    "def preprocess_data(X_train, X_valid, X_test, input_columns):\n",
    "    \n",
    "    # Normalize the features\n",
    "    scaler = StandardScaler()\n",
    "    X_train = scaler.fit_transform(X_train)\n",
    "    X_valid = scaler.transform(X_valid)\n",
    "    X_test = scaler.transform(X_test)\n",
    "    \n",
    "    # Imputer\n",
    "    imputer= SimpleImputer(strategy='median')\n",
    "    imputer.fit(X_train)\n",
    "\n",
    "    X_train_imputed= pd.DataFrame(imputer.transform(X_train))\n",
    "    X_valid_imputed= pd.DataFrame(imputer.transform(X_valid))\n",
    "    X_test_imputed = pd.DataFrame(imputer.transform(X_test))\n",
    "\n",
    "    # Assign original column names back to the DataFrames\n",
    "    X_train_imputed.columns = input_columns\n",
    "    X_valid_imputed.columns = input_columns\n",
    "    X_test_imputed.columns = input_columns\n",
    "\n",
    "    return X_train_imputed,X_valid_imputed,X_test_imputed"
   ]
  },
  {
   "cell_type": "code",
   "execution_count": 8,
   "metadata": {},
   "outputs": [
    {
     "name": "stdout",
     "output_type": "stream",
     "text": [
      "Training Set Shape:  (10022, 8)\n",
      "Validation Set Shape:  (4296, 8)\n",
      "Testing Set Shape:  (3580, 8)\n"
     ]
    }
   ],
   "source": [
    "dataset_source = \"HTRU\"\n",
    "#dataset_source =\"LOTAAS\"\n",
    "\n",
    "X_train, X_valid, X_test, y_train, y_valid, y_test, input_columns = load_dataset(dataset_source)\n",
    "\n",
    "X_train,X_valid,X_test= preprocess_data(X_train,X_valid,X_test,input_columns)\n",
    "\n",
    "y_train= [int(x) for x in y_train]\n",
    "y_test= [int(x) for x in y_test]\n",
    "y_valid= [int(x) for x in y_valid]"
   ]
  },
  {
   "cell_type": "code",
   "execution_count": 9,
   "metadata": {},
   "outputs": [
    {
     "data": {
      "image/png": "[encoded data removed]",
      "text/plain": [
       "<Figure size 576x432 with 1 Axes>"
      ]
     },
     "metadata": {
      "needs_background": "light"
     },
     "output_type": "display_data"
    }
   ],
   "source": [
    "# Plot the distributions\n",
    "plt.figure(figsize=(8, 6))\n",
    "plt.hist(y_train, bins=20, alpha=0.5, label='Training Data')\n",
    "plt.hist(y_test, bins=20, alpha=0.5, label='Testing Data')\n",
    "plt.title('Distribution of Pulsars(1) and Non Pulsars(0)')\n",
    "plt.xlabel('Output Value')\n",
    "plt.ylabel('Density')\n",
    "plt.legend()\n",
    "plt.show()"
   ]
  },
  {
   "cell_type": "markdown",
   "metadata": {
    "_uuid": "b4783cdb1902414c346e39c709b5619788e4b748"
   },
   "source": [
    "# 4. RandomForestClassifier"
   ]
  },
  {
   "cell_type": "code",
   "execution_count": 10,
   "metadata": {},
   "outputs": [],
   "source": [
    "def rfc(X_train, y_train, X_test, y_test):\n",
    "    \n",
    "    # Define model\n",
    "    model_rfc = RandomForestClassifier(n_estimators=30, random_state=0)\n",
    "\n",
    "\n",
    "    model_rfc.fit(X_train, y_train)\n",
    "    y_pred_rfc = model_rfc.predict(X_test)\n",
    "\n",
    "    # define evaluation procedure\n",
    "    cv = RepeatedStratifiedKFold(n_splits=4, n_repeats=5, random_state=1)\n",
    "    # evaluate model\n",
    "    scores = cross_val_score(model_rfc, X_test, y_test, scoring='accuracy', cv=cv, n_jobs=-1)\n",
    "    # summarize performance\n",
    "    print('Mean Accuracy: %.3f' % np.mean(scores))\n",
    "    \n",
    "    accuracy = accuracy_score(y_test, y_pred_rfc)\n",
    "    precision = precision_score(y_test, y_pred_rfc)\n",
    "    recall = recall_score(y_test, y_pred_rfc)\n",
    "\n",
    "    print(f\"Accuracy using RandomForestClassifier: %.3f\"%accuracy)\n",
    "    print(f\"Precision using RandomForestClassifier: %.3f\"%precision)\n",
    "    print(\"Recall using RandomForestClassifier: %.3f\" %recall)"
   ]
  },
  {
   "cell_type": "code",
   "execution_count": 11,
   "metadata": {
    "_uuid": "1b8f75a0a1976000bc34e71a65c512d124825097"
   },
   "outputs": [
    {
     "name": "stdout",
     "output_type": "stream",
     "text": [
      "Mean Accuracy: 0.980\n",
      "Accuracy using RandomForestClassifier: 0.980\n",
      "Precision using RandomForestClassifier: 0.934\n",
      "Recall using RandomForestClassifier: 0.838\n"
     ]
    }
   ],
   "source": [
    "rfc(X_train, y_train, X_test, y_test)"
   ]
  },
  {
   "cell_type": "markdown",
   "metadata": {},
   "source": [
    "## 5.1 Random Forest With Bootstrap Class Weighting\n",
    "\n"
   ]
  },
  {
   "cell_type": "code",
   "execution_count": 12,
   "metadata": {},
   "outputs": [],
   "source": [
    "def rfc_with_bootstrap(X_train, y_train, X_test, y_test):\n",
    "    \n",
    "    model_rfc_bcw = RandomForestClassifier(n_estimators=30,random_state=0,class_weight='balanced_subsample')\n",
    "    model_rfc_bcw.fit(X_train, y_train)\n",
    "    y_pred_rfc_bcw = model_rfc_bcw.predict(X_test)\n",
    "    \n",
    "    accuracy_rfc_bcw = accuracy_score(y_test, y_pred_rfc_bcw)\n",
    "    precision_rfc_bcw = precision_score(y_test, y_pred_rfc_bcw)\n",
    "    recall_rfc_bcw = recall_score(y_test, y_pred_rfc_bcw)\n",
    "        \n",
    "    print(f\"Accuracy using Bootstrap Class Weighting: %.3f\"%accuracy_rfc_bcw)\n",
    "    print(f\"Precision using Bootstrap Class Weighting: %.3f\"%precision_rfc_bcw)\n",
    "    print(\"Recall using Bootstrap Class Weighting: %.3f\" %recall_rfc_bcw)"
   ]
  },
  {
   "cell_type": "code",
   "execution_count": 13,
   "metadata": {},
   "outputs": [
    {
     "name": "stdout",
     "output_type": "stream",
     "text": [
      "Accuracy using Bootstrap Class Weighting: 0.981\n",
      "Precision using Bootstrap Class Weighting: 0.941\n",
      "Recall using Bootstrap Class Weighting: 0.841\n"
     ]
    }
   ],
   "source": [
    "rfc_with_bootstrap(X_train, y_train, X_test, y_test)"
   ]
  },
  {
   "cell_type": "markdown",
   "metadata": {},
   "source": [
    "## 6. Using XGBoost\n"
   ]
  },
  {
   "cell_type": "code",
   "execution_count": null,
   "metadata": {},
   "outputs": [],
   "source": [
    "def xgb_classifier(X_train, y_train, X_test, y_test):\n",
    "\n",
    "    # XGBoost on the Training set\n",
    "\n",
    "    '''\n",
    "    https://stackoverflow.com/questions/71996617/invalid-classes-inferred-from-unique-values-of-y-expected-0-1-2-3-4-5-got\n",
    "    '''\n",
    "    le = LabelEncoder()\n",
    "    y_train_xgb = le.fit_transform(y_train)\n",
    "\n",
    "    xgb_classifier = XGBClassifier()\n",
    "    xgb_classifier.fit(X_train, y_train_xgb)\n",
    "\n",
    "    y_pred_xgb = xgb_classifier.predict(X_test)\n",
    "    y_pred_xgb = le.inverse_transform(y_pred_xgb)\n",
    "    \n",
    "    accuracy_score_xgb= accuracy_score(y_test, y_pred_xgb)    \n",
    "    print(f\"Accuracy Score using XGB: %.3f\"%accuracy_score_xgb)\n",
    "\n",
    "    cm = confusion_matrix(y_test, y_pred_xgb)\n",
    "    \n",
    "    classes= np.unique(y_test)\n",
    "    disp = ConfusionMatrixDisplay(confusion_matrix=cm, display_labels=classes)\n",
    "    disp.plot()\n",
    "    plt.show()"
   ]
  },
  {
   "cell_type": "code",
   "execution_count": null,
   "metadata": {},
   "outputs": [],
   "source": [
    "xgb_classifier(X_train, y_train, X_test, y_test)"
   ]
  },
  {
   "cell_type": "markdown",
   "metadata": {},
   "source": [
    "## 7. Using Bagging Classifier\n",
    "\n",
    "We are dealing with imbalanced classification problem so can't use usual ML models without accounting for dataset class imbalance. Here I use bagging classifier as first approach to deal with thhat problem.\n",
    "\n",
    "https://machinelearningmastery.com/what-is-imbalanced-classification/\n",
    "\n",
    "1. Bagging classifier is an ensemble classifier which is created using multiple estimators which can be trained using different sampling techniques including bagging or bootstrap aggregation (samples drawn with replacement). \n",
    "\n",
    "2. Bagging classifier helps reduce the variance of individual estimators by sampling technique and combining the predictions.\n"
   ]
  },
  {
   "cell_type": "code",
   "execution_count": null,
   "metadata": {},
   "outputs": [],
   "source": [
    "def bagging_classifier(X_train, y_train, X_test, y_test):\n",
    "    \n",
    "    # deafault base estimator is a DecisionTreeClassifier.\n",
    "\n",
    "    bagging = BaggingClassifier(n_estimators=10, random_state=0)\n",
    "    bagging.fit(X_train, y_train)\n",
    "\n",
    "    y_pred_bagging = bagging.predict(X_test)\n",
    "\n",
    "    accuracy_bag = accuracy_score(y_test, y_pred_bagging)\n",
    "    precision_bag = precision_score(y_test, y_pred_bagging)\n",
    "    recall_bag = recall_score(y_test, y_pred_bagging)\n",
    "    \n",
    "    print(f\"Accuracy Score using Bagging Classifier: %.3f\"%accuracy_bag)\n",
    "    print(f\"Precision Score using Bagging Classifier: %.3f\"%precision_bag)\n",
    "    print(f\"Recall Score using Bagging Classifier: %.3f\"%recall_bag)\n",
    "\n",
    "    # Model scores on test and training data\n",
    "    print('Model training Score: %.3f' %bagging.score(X_train, y_train))\n",
    "    print('Model test Score: %.3f ' %bagging.score(X_test, y_test))"
   ]
  },
  {
   "cell_type": "code",
   "execution_count": null,
   "metadata": {},
   "outputs": [],
   "source": [
    "bagging_classifier(X_train, y_train, X_test, y_test)"
   ]
  },
  {
   "cell_type": "markdown",
   "metadata": {},
   "source": [
    "# 7.1 Bagging with Random Forest Classifier as Base Estimator\n"
   ]
  },
  {
   "cell_type": "code",
   "execution_count": null,
   "metadata": {},
   "outputs": [],
   "source": [
    "def bagging_classifier_rgb(X_train, y_train, X_test, y_test):\n",
    "    rfc_bagging = BaggingClassifier(base_estimator=RandomForestClassifier(),n_estimators=10, random_state=0)\n",
    "    rfc_bagging.fit(X_train, y_train)\n",
    "\n",
    "    y_pred_rfc_bagging = rfc_bagging.predict(X_test)\n",
    "\n",
    "    accuracy_bag_rfc = accuracy_score(y_test, y_pred_rfc_bagging)\n",
    "    precision_bag_rfc = precision_score(y_test, y_pred_rfc_bagging)\n",
    "    recall_bag_rfc= recall_score(y_test, y_pred_rfc_bagging)\n",
    "\n",
    "    print(f\"Accuracy Score using Bagging Classifier with RFC: %.3f\"%accuracy_bag_rfc)\n",
    "    print(f\"Precision Score using Bagging Classifier with RFC: %.3f\"%precision_bag_rfc)\n",
    "    print(f\"Recall Score using Bagging Classifier with RFC: %.3f\"%recall_bag_rfc)\n",
    "\n",
    "    # Model scores on test and training data\n",
    "    print('Model training Score: %.3f' %rfc_bagging.score(X_train, y_train))\n",
    "    print('Model test Score: %.3f ' %rfc_bagging.score(X_test, y_test))\n"
   ]
  },
  {
   "cell_type": "code",
   "execution_count": null,
   "metadata": {},
   "outputs": [],
   "source": [
    "bagging_classifier_rgb(X_train, y_train, X_test, y_test)"
   ]
  },
  {
   "cell_type": "markdown",
   "metadata": {},
   "source": [
    "# 7.2 Bagging with Support Vector Classifier as Base Estimator"
   ]
  },
  {
   "cell_type": "code",
   "execution_count": null,
   "metadata": {},
   "outputs": [],
   "source": [
    "def bagging_classifier_svc(X_train, y_train, X_test, y_test):\n",
    "    \n",
    "    #First just fit data using classic SVC for test purpose \n",
    "    model_svc = svm.SVC()\n",
    "\n",
    "    model_svc.fit(X_train, y_train)\n",
    "\n",
    "    y_pred_svc = model_svc.predict(X_test)\n",
    "\n",
    "    accuracy_svc = accuracy_score(y_test, y_pred_svc)\n",
    "    precision_svc = precision_score(y_test, y_pred_svc)\n",
    "    recall_svc = recall_score(y_test, y_pred_svc)\n",
    "\n",
    "    print(f\"Accuracy Score using SVC: %.3f\"%accuracy_svc)\n",
    "    print(f\"Precision Score using SVC: %.3f\"%precision_svc)\n",
    "    print(f\"Recall Score using SVC: %.3f\"%precision_svc)\n",
    "    \n",
    "    # Now using bagging classfier\n",
    "    svc_bagging = BaggingClassifier(base_estimator=svm.SVC(),n_estimators=10, random_state=0)\n",
    "    svc_bagging.fit(X_train, y_train)\n",
    "\n",
    "    y_pred_svc_bagging = svc_bagging.predict(X_test)\n",
    "\n",
    "    accuracy_bag_svc = accuracy_score(y_test, y_pred_svc_bagging)\n",
    "    precision_bag_svc = precision_score(y_test, y_pred_svc_bagging)\n",
    "    recall_bag_svc = recall_score(y_test, y_pred_svc_bagging)\n",
    "\n",
    "    print(f\"Accuracy Score using Bagging Classifier with SVC: %.3f\"%accuracy_bag_svc)\n",
    "    print(f\"Precision Score using Bagging Classifier with SVC: %.3f\"%precision_bag_svc)\n",
    "    print(f\"Recall Score using Bagging Classifier with SVC: %.3f\"%recall_bag_svc)\n",
    "    \n",
    "    print('Model training Score: %.3f' %svc_bagging.score(X_train, y_train))\n",
    "    print('Model test Score: %.3f ' %svc_bagging.score(X_test, y_test))"
   ]
  },
  {
   "cell_type": "code",
   "execution_count": null,
   "metadata": {},
   "outputs": [],
   "source": [
    "bagging_classifier_svc(X_train, y_train, X_test, y_test)"
   ]
  }
 ],
 "metadata": {
  "kernelspec": {
   "display_name": "Python 3 (ipykernel)",
   "language": "python",
   "name": "python3"
  },
  "language_info": {
   "codemirror_mode": {
    "name": "ipython",
    "version": 3
   },
   "file_extension": ".py",
   "mimetype": "text/x-python",
   "name": "python",
   "nbconvert_exporter": "python",
   "pygments_lexer": "ipython3",
   "version": "3.8.5"
  }
 },
 "nbformat": 4,
 "nbformat_minor": 4
}
